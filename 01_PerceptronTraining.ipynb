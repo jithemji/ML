{
  "nbformat": 4,
  "nbformat_minor": 0,
  "metadata": {
    "colab": {
      "name": "01_PerceptronTraining.ipynb",
      "provenance": [],
      "include_colab_link": true
    },
    "kernelspec": {
      "name": "python3",
      "display_name": "Python 3"
    },
    "language_info": {
      "name": "python"
    }
  },
  "cells": [
    {
      "cell_type": "markdown",
      "metadata": {
        "id": "view-in-github",
        "colab_type": "text"
      },
      "source": [
        "<a href=\"https://colab.research.google.com/github/jithemji/ML/blob/main/01_PerceptronTraining.ipynb\" target=\"_parent\"><img src=\"https://colab.research.google.com/assets/colab-badge.svg\" alt=\"Open In Colab\"/></a>"
      ]
    },
    {
      "cell_type": "markdown",
      "metadata": {
        "id": "llX9hB9bcXzj"
      },
      "source": [
        "> Code illustration during `ML.now()` 2.0 for perceptron training \n",
        "\n",
        "**Date Created**: May 23, 2021\n",
        "\n",
        "\n",
        "**Author**: [Shivani Shimpi](https://www.linkedin.com/in/shivani-shimpi-5113a8170/)\n",
        "\n",
        "**Reach out**:\n",
        "[Email](mailto:shivanishimpi9@gmail.com) | [GitHub](https://github.com/shivanishimpi) | [LinkedIn](https://www.linkedin.com/in/shivani-shimpi-5113a8170/)\n",
        "\n",
        "\n",
        "\n",
        "Feel free to check out my [website](http://shivanishimpi.github.io/) for more information about my work"
      ]
    },
    {
      "cell_type": "markdown",
      "metadata": {
        "id": "wVilfTHfcxgL"
      },
      "source": [
        "# Problem Statement"
      ]
    },
    {
      "cell_type": "markdown",
      "metadata": {
        "id": "q39vxwhuNAN6"
      },
      "source": [
        "Teach model to predict on the following equation \n",
        "\n",
        "Equation: `y = 10x`"
      ]
    },
    {
      "cell_type": "markdown",
      "metadata": {
        "id": "NHNYAQUqdF9T"
      },
      "source": [
        "# Data Creation\n",
        "\n",
        "\n",
        "Since the equation we want to teach our model is `y = 10x`, we need the following dataset\n",
        "\n",
        "```\n",
        "x = [0, 1, 2, 3, 4, 5,..]\n",
        "\n",
        "y = [0, 10, 20, 30, 40, 50,..]\n",
        "```"
      ]
    },
    {
      "cell_type": "code",
      "metadata": {
        "colab": {
          "base_uri": "https://localhost:8080/"
        },
        "id": "mhCZGsvueXkI",
        "outputId": "9f5576db-cba5-4011-8a30-ca6d3bd32715"
      },
      "source": [
        "x = [i for i in range(20+1)] #list comprehension\n",
        "print(x)"
      ],
      "execution_count": 16,
      "outputs": [
        {
          "output_type": "stream",
          "text": [
            "[0, 1, 2, 3, 4, 5, 6, 7, 8, 9, 10, 11, 12, 13, 14, 15, 16, 17, 18, 19, 20]\n"
          ],
          "name": "stdout"
        }
      ]
    },
    {
      "cell_type": "code",
      "metadata": {
        "colab": {
          "base_uri": "https://localhost:8080/"
        },
        "id": "9ut91uK_d7tA",
        "outputId": "02d248c1-cd69-424b-975a-3d35b1794099"
      },
      "source": [
        "y = [i for i in range(10*20+1) if i%10==0]\n",
        "print(y)"
      ],
      "execution_count": 17,
      "outputs": [
        {
          "output_type": "stream",
          "text": [
            "[0, 10, 20, 30, 40, 50, 60, 70, 80, 90, 100, 110, 120, 130, 140, 150, 160, 170, 180, 190, 200]\n"
          ],
          "name": "stdout"
        }
      ]
    },
    {
      "cell_type": "markdown",
      "metadata": {
        "id": "AOBfE4rOgT_d"
      },
      "source": [
        "# Approach 1\n",
        "\n",
        "*Non ML Approach*\n"
      ]
    },
    {
      "cell_type": "markdown",
      "metadata": {
        "id": "zh1HeRj4OF_k"
      },
      "source": [
        "Defining a function for the equation `y = 10x`"
      ]
    },
    {
      "cell_type": "code",
      "metadata": {
        "id": "xmEJfDVRga4b"
      },
      "source": [
        "def tableofTen(x):\n",
        "  y = 10*x\n",
        "  return y\n",
        "\n",
        "\n",
        "for value in x:\n",
        "  print(tableofTen(value))"
      ],
      "execution_count": null,
      "outputs": []
    },
    {
      "cell_type": "markdown",
      "metadata": {
        "id": "r7lini7MhYaz"
      },
      "source": [
        "## Approach 2\n",
        "\n",
        "*ML Approach*"
      ]
    },
    {
      "cell_type": "markdown",
      "metadata": {
        "id": "ptrG_u4COC-t"
      },
      "source": [
        "\n",
        "We got really excited to try ML out during the course so we ended up training a neuron on the table of 10, probably something that no one would ever use again, lol\n"
      ]
    },
    {
      "cell_type": "markdown",
      "metadata": {
        "id": "LwEnPsHdOK68"
      },
      "source": [
        "But wait!\n",
        "Before that we need the data to be split into Training and Testing, right? So let's do that!\n",
        "\n",
        "\n",
        "We are going to split the data in our case the lists `x` and `y` into four parts,\n",
        "\n",
        "- `xTrain` for training data\n",
        "- `yTrain` for training labels\n",
        "- `xTest` for testing data\n",
        "- `yTest` for testing labels"
      ]
    },
    {
      "cell_type": "code",
      "metadata": {
        "colab": {
          "base_uri": "https://localhost:8080/"
        },
        "id": "XVLkGH0Ph9Lw",
        "outputId": "26662ddd-e27d-4702-8d44-91a038a672ae"
      },
      "source": [
        "print(f'This is x: {x}')\n",
        "print(f'This is y: {y}')"
      ],
      "execution_count": 19,
      "outputs": [
        {
          "output_type": "stream",
          "text": [
            "This is x: [0, 1, 2, 3, 4, 5, 6, 7, 8, 9, 10, 11, 12, 13, 14, 15, 16, 17, 18, 19, 20]\n",
            "This is y: [0, 10, 20, 30, 40, 50, 60, 70, 80, 90, 100, 110, 120, 130, 140, 150, 160, 170, 180, 190, 200]\n"
          ],
          "name": "stdout"
        }
      ]
    },
    {
      "cell_type": "code",
      "metadata": {
        "colab": {
          "base_uri": "https://localhost:8080/"
        },
        "id": "6qbrM_lOhARR",
        "outputId": "de18a3cb-09af-47c3-b16f-384e01b0c246"
      },
      "source": [
        "xTrain = x[:-5] #Training Data\n",
        "yTrain = y[:-5] #Training Labels\n",
        "\n",
        "xTest = x[-5:] #Testing Data\n",
        "yTest = y[-5:] #Testing Labels\n",
        "\n",
        "print(f'''\n",
        "Training Data:\n",
        "\n",
        "xTrain : {xTrain}\n",
        "yTrain : {yTrain}\n",
        "\n",
        "Testing Data:\n",
        "\n",
        "xTest : {xTest}\n",
        "yTest : {yTest}\n",
        "''')"
      ],
      "execution_count": 20,
      "outputs": [
        {
          "output_type": "stream",
          "text": [
            "\n",
            "Training Data:\n",
            "\n",
            "xTrain : [0, 1, 2, 3, 4, 5, 6, 7, 8, 9, 10, 11, 12, 13, 14, 15]\n",
            "yTrain : [0, 10, 20, 30, 40, 50, 60, 70, 80, 90, 100, 110, 120, 130, 140, 150]\n",
            "\n",
            "Testing Data:\n",
            "\n",
            "xTest : [16, 17, 18, 19, 20]\n",
            "yTest : [160, 170, 180, 190, 200]\n",
            "\n"
          ],
          "name": "stdout"
        }
      ]
    },
    {
      "cell_type": "markdown",
      "metadata": {
        "id": "WGyNVPSVOn-z"
      },
      "source": [
        "Now once we have split the data for training and testing, let's start the code for the model."
      ]
    },
    {
      "cell_type": "code",
      "metadata": {
        "id": "hQ5BsgPjkD2z"
      },
      "source": [
        "#Importing the necessary libraries/frameworks\n",
        "\n",
        "import tensorflow as tf\n",
        "from tensorflow import keras"
      ],
      "execution_count": 21,
      "outputs": []
    },
    {
      "cell_type": "markdown",
      "metadata": {
        "id": "xgWK0f1AOyQB"
      },
      "source": [
        "We are using [TensorFlow](https://www.tensorflow.org/) 2.0 and keras for building ML models"
      ]
    },
    {
      "cell_type": "code",
      "metadata": {
        "id": "QUPQHftSkj-R"
      },
      "source": [
        "#perceptron model\n",
        "\n",
        "model = tf.keras.Sequential([\n",
        "                             tf.keras.layers.Dense(units=1, input_shape=[1]) \n",
        "])\n",
        "\n",
        "#unit here denotes the number of neurons and input_shape denotes the shape of the input data that you provide your neuron here"
      ],
      "execution_count": 22,
      "outputs": []
    },
    {
      "cell_type": "markdown",
      "metadata": {
        "id": "T57ZKOTPpAWX"
      },
      "source": [
        "Now that we have defined the model, we need to compile it to reduce the error* during the training phase.\n",
        "\n",
        "We use the `adam` optimizer, but you can feel free to use `sgd`, `rmsprop`, `adamax`, `adagrad`, or others.\n",
        "\n",
        "Since this is a regression problem (how do we know it is regression? look at the equation above `y = 10x`) we are going to use mean absolute error `mae` but you can try mean squared error `mse` as well\n",
        "\n",
        "\n",
        "*error is the difference between the predicted label (output of ML model) and the actual label (label you have)"
      ]
    },
    {
      "cell_type": "markdown",
      "metadata": {
        "id": "93qXyK3TSDx_"
      },
      "source": [
        "### Mean Absolute Error\n",
        "\n",
        "$${\\displaystyle \\mathrm {MAE} ={\\frac {\\sum _{i=1}^{n}\\left|y_{i}-x_{i}\\right|}{n}}}\n",
        "$$\n",
        "\n",
        "where,\n",
        "\n",
        "- $y_{i}$ denotes the true label (the labels you have)\n",
        "- $x_{i}$ denotes the predicted labels that the model outputs "
      ]
    },
    {
      "cell_type": "code",
      "metadata": {
        "id": "Nz3eb9GXmURv"
      },
      "source": [
        "model.compile(optimizer='adam', loss='mae') #optimizers --> sgd, rmsprop, adamax, adagrad ; loss --> mse, mae (this is regression sample)"
      ],
      "execution_count": 23,
      "outputs": []
    },
    {
      "cell_type": "code",
      "metadata": {
        "colab": {
          "base_uri": "https://localhost:8080/"
        },
        "id": "mngD5t01nDBF",
        "outputId": "16b7e149-03ff-4f02-b176-3bf03c9da8f7"
      },
      "source": [
        "numEpoch = 50 #training it for 5000 times\n",
        "\n",
        "model.fit(x=xTrain, y=yTrain, validation_data=(xTest, yTest), epochs=numEpoch)"
      ],
      "execution_count": 24,
      "outputs": [
        {
          "output_type": "stream",
          "text": [
            "Epoch 1/50\n",
            "1/1 [==============================] - 0s 272ms/step - loss: 78.7000 - val_loss: 188.8609\n",
            "Epoch 2/50\n",
            "1/1 [==============================] - 0s 26ms/step - loss: 78.6916 - val_loss: 188.8419\n",
            "Epoch 3/50\n",
            "1/1 [==============================] - 0s 28ms/step - loss: 78.6832 - val_loss: 188.8229\n",
            "Epoch 4/50\n",
            "1/1 [==============================] - 0s 24ms/step - loss: 78.6748 - val_loss: 188.8039\n",
            "Epoch 5/50\n",
            "1/1 [==============================] - 0s 24ms/step - loss: 78.6665 - val_loss: 188.7849\n",
            "Epoch 6/50\n",
            "1/1 [==============================] - 0s 32ms/step - loss: 78.6581 - val_loss: 188.7659\n",
            "Epoch 7/50\n",
            "1/1 [==============================] - 0s 29ms/step - loss: 78.6497 - val_loss: 188.7469\n",
            "Epoch 8/50\n",
            "1/1 [==============================] - 0s 30ms/step - loss: 78.6413 - val_loss: 188.7279\n",
            "Epoch 9/50\n",
            "1/1 [==============================] - 0s 28ms/step - loss: 78.6330 - val_loss: 188.7089\n",
            "Epoch 10/50\n",
            "1/1 [==============================] - 0s 28ms/step - loss: 78.6246 - val_loss: 188.6899\n",
            "Epoch 11/50\n",
            "1/1 [==============================] - 0s 31ms/step - loss: 78.6162 - val_loss: 188.6709\n",
            "Epoch 12/50\n",
            "1/1 [==============================] - 0s 24ms/step - loss: 78.6079 - val_loss: 188.6519\n",
            "Epoch 13/50\n",
            "1/1 [==============================] - 0s 28ms/step - loss: 78.5995 - val_loss: 188.6329\n",
            "Epoch 14/50\n",
            "1/1 [==============================] - 0s 27ms/step - loss: 78.5911 - val_loss: 188.6139\n",
            "Epoch 15/50\n",
            "1/1 [==============================] - 0s 34ms/step - loss: 78.5827 - val_loss: 188.5949\n",
            "Epoch 16/50\n",
            "1/1 [==============================] - 0s 28ms/step - loss: 78.5744 - val_loss: 188.5759\n",
            "Epoch 17/50\n",
            "1/1 [==============================] - 0s 28ms/step - loss: 78.5660 - val_loss: 188.5569\n",
            "Epoch 18/50\n",
            "1/1 [==============================] - 0s 28ms/step - loss: 78.5576 - val_loss: 188.5379\n",
            "Epoch 19/50\n",
            "1/1 [==============================] - 0s 26ms/step - loss: 78.5492 - val_loss: 188.5190\n",
            "Epoch 20/50\n",
            "1/1 [==============================] - 0s 48ms/step - loss: 78.5409 - val_loss: 188.4999\n",
            "Epoch 21/50\n",
            "1/1 [==============================] - 0s 28ms/step - loss: 78.5325 - val_loss: 188.4809\n",
            "Epoch 22/50\n",
            "1/1 [==============================] - 0s 26ms/step - loss: 78.5241 - val_loss: 188.4620\n",
            "Epoch 23/50\n",
            "1/1 [==============================] - 0s 38ms/step - loss: 78.5158 - val_loss: 188.4429\n",
            "Epoch 24/50\n",
            "1/1 [==============================] - 0s 32ms/step - loss: 78.5074 - val_loss: 188.4240\n",
            "Epoch 25/50\n",
            "1/1 [==============================] - 0s 37ms/step - loss: 78.4990 - val_loss: 188.4050\n",
            "Epoch 26/50\n",
            "1/1 [==============================] - 0s 31ms/step - loss: 78.4906 - val_loss: 188.3860\n",
            "Epoch 27/50\n",
            "1/1 [==============================] - 0s 29ms/step - loss: 78.4823 - val_loss: 188.3670\n",
            "Epoch 28/50\n",
            "1/1 [==============================] - 0s 31ms/step - loss: 78.4739 - val_loss: 188.3480\n",
            "Epoch 29/50\n",
            "1/1 [==============================] - 0s 28ms/step - loss: 78.4655 - val_loss: 188.3290\n",
            "Epoch 30/50\n",
            "1/1 [==============================] - 0s 36ms/step - loss: 78.4572 - val_loss: 188.3100\n",
            "Epoch 31/50\n",
            "1/1 [==============================] - 0s 25ms/step - loss: 78.4488 - val_loss: 188.2910\n",
            "Epoch 32/50\n",
            "1/1 [==============================] - 0s 38ms/step - loss: 78.4404 - val_loss: 188.2720\n",
            "Epoch 33/50\n",
            "1/1 [==============================] - 0s 30ms/step - loss: 78.4320 - val_loss: 188.2530\n",
            "Epoch 34/50\n",
            "1/1 [==============================] - 0s 26ms/step - loss: 78.4237 - val_loss: 188.2340\n",
            "Epoch 35/50\n",
            "1/1 [==============================] - 0s 47ms/step - loss: 78.4153 - val_loss: 188.2150\n",
            "Epoch 36/50\n",
            "1/1 [==============================] - 0s 31ms/step - loss: 78.4069 - val_loss: 188.1960\n",
            "Epoch 37/50\n",
            "1/1 [==============================] - 0s 31ms/step - loss: 78.3985 - val_loss: 188.1770\n",
            "Epoch 38/50\n",
            "1/1 [==============================] - 0s 28ms/step - loss: 78.3902 - val_loss: 188.1580\n",
            "Epoch 39/50\n",
            "1/1 [==============================] - 0s 26ms/step - loss: 78.3818 - val_loss: 188.1390\n",
            "Epoch 40/50\n",
            "1/1 [==============================] - 0s 24ms/step - loss: 78.3734 - val_loss: 188.1200\n",
            "Epoch 41/50\n",
            "1/1 [==============================] - 0s 24ms/step - loss: 78.3650 - val_loss: 188.1010\n",
            "Epoch 42/50\n",
            "1/1 [==============================] - 0s 26ms/step - loss: 78.3567 - val_loss: 188.0820\n",
            "Epoch 43/50\n",
            "1/1 [==============================] - 0s 31ms/step - loss: 78.3483 - val_loss: 188.0630\n",
            "Epoch 44/50\n",
            "1/1 [==============================] - 0s 27ms/step - loss: 78.3399 - val_loss: 188.0440\n",
            "Epoch 45/50\n",
            "1/1 [==============================] - 0s 26ms/step - loss: 78.3315 - val_loss: 188.0250\n",
            "Epoch 46/50\n",
            "1/1 [==============================] - 0s 30ms/step - loss: 78.3232 - val_loss: 188.0060\n",
            "Epoch 47/50\n",
            "1/1 [==============================] - 0s 26ms/step - loss: 78.3148 - val_loss: 187.9870\n",
            "Epoch 48/50\n",
            "1/1 [==============================] - 0s 29ms/step - loss: 78.3064 - val_loss: 187.9680\n",
            "Epoch 49/50\n",
            "1/1 [==============================] - 0s 26ms/step - loss: 78.2980 - val_loss: 187.9490\n",
            "Epoch 50/50\n",
            "1/1 [==============================] - 0s 30ms/step - loss: 78.2897 - val_loss: 187.9300\n"
          ],
          "name": "stdout"
        },
        {
          "output_type": "execute_result",
          "data": {
            "text/plain": [
              "<tensorflow.python.keras.callbacks.History at 0x7f10193e95d0>"
            ]
          },
          "metadata": {
            "tags": []
          },
          "execution_count": 24
        }
      ]
    },
    {
      "cell_type": "code",
      "metadata": {
        "id": "DxzW42uckohY"
      },
      "source": [
        ""
      ],
      "execution_count": null,
      "outputs": []
    },
    {
      "cell_type": "markdown",
      "metadata": {
        "id": "ww3nKX1DUHye"
      },
      "source": [
        "`val_loss` denotes how far could your models prediction be from the actual label.\n",
        "\n",
        "So let's say if you give the input `x = 10` to your model you are expecting the ideal output to be 100, why? Because `y = 10*x = 10*10 = 100`.\n",
        "\n",
        "Now you would get 100 if you're not using Machine Learning.\n",
        "If you use the Approach 1 (that works on Crisp / Boolean Logic) you would get an exact 100, but if you use machine learning (that uses fuzzy logic) you would get the value close to 100 but never exactly 100. \n",
        "\n",
        "In the current scenario it would be `10*x ± val_loss = 10*10 ± 107.8904`\n",
        "\n",
        "Because the validation loss is 107.8904, and our intention is to reduce the loss and bring it down as closer to zero as much as we can."
      ]
    },
    {
      "cell_type": "markdown",
      "metadata": {
        "id": "Nohy2-61kqCR"
      },
      "source": [
        "///////////////////////////////////////////////////////////////////////////////////////////////////////////////////////////////////////////////////////////////\n"
      ]
    },
    {
      "cell_type": "code",
      "metadata": {
        "id": "Iy5yK939kprM",
        "outputId": "3eb2c2f7-b487-4ce0-be41-5735da56c3f5",
        "colab": {
          "base_uri": "https://localhost:8080/"
        }
      },
      "source": [
        "cd /content/drive/MyDrive/Colab Notebooks/student"
      ],
      "execution_count": 28,
      "outputs": [
        {
          "output_type": "stream",
          "text": [
            "/content/drive/MyDrive/Colab Notebooks/student\n"
          ],
          "name": "stdout"
        }
      ]
    },
    {
      "cell_type": "code",
      "metadata": {
        "id": "SyGzpb3Clb2i",
        "outputId": "c995e5c8-4c02-44e1-9c83-e58371fa168a",
        "colab": {
          "base_uri": "https://localhost:8080/"
        }
      },
      "source": [
        "ls"
      ],
      "execution_count": 29,
      "outputs": [
        {
          "output_type": "stream",
          "text": [
            "student-mat.csv  student-merge.R  student-por.csv  student.txt\n"
          ],
          "name": "stdout"
        }
      ]
    },
    {
      "cell_type": "code",
      "metadata": {
        "id": "ITK0grZ6ldXX"
      },
      "source": [
        "import pandas as pd\n",
        "import numpy as np\n",
        "import tensorflow as tf\n",
        "from tensorflow import keras\n"
      ],
      "execution_count": null,
      "outputs": []
    }
  ]
}